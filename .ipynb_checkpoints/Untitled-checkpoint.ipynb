{
 "cells": [
  {
   "cell_type": "markdown",
   "id": "e2049806-37b6-458e-99ef-4b48fc2d8780",
   "metadata": {},
   "source": [
    "# Programmez votre première régression linéaire\n",
    "\n",
    "Étant donné les caractéristiques de mon appartement, combien devrais-je normalement payer mon loyer ?\n",
    "\n",
    "données : house.csv\n",
    "\n",
    "## Première partie : surface\n",
    "\n",
    "(x,y) = (surface,loyer)"
   ]
  },
  {
   "cell_type": "code",
   "execution_count": 1,
   "id": "2d715e51-091a-4dc0-8fec-10e64474741c",
   "metadata": {},
   "outputs": [
    {
     "data": {
      "image/png": "[encoded data removed]",
      "text/plain": [
       "<Figure size 432x288 with 1 Axes>"
      ]
     },
     "metadata": {
      "needs_background": "light"
     },
     "output_type": "display_data"
    }
   ],
   "source": [
    "# On importe les librairies dont on aura besoin pour ce tp\n",
    "import numpy as np\n",
    "import pandas as pd\n",
    "import matplotlib.pyplot as plt\n",
    "\n",
    "# On charge le dataset\n",
    "house_data = pd.read_csv('house.csv')\n",
    "\n",
    "# On affiche le nuage de points dont on dispose\n",
    "plt.plot(house_data['surface'], house_data['loyer'], 'ro', markersize=4)\n",
    "plt.show()"
   ]
  },
  {
   "cell_type": "markdown",
   "id": "1801026a-1754-4ee2-bebc-4c0be5f8b221",
   "metadata": {},
   "source": [
    "Clairement, d'après la visualisation, on peut se dire que le montant du loyer dépend de manière linéaire de la surface du logement. On peut donc émettre une hypothèse de modélisation qui est que le phénomène possède la forme d'une droite. \n",
    "\n",
    "Aussi, on peut voir que lorsque la surface devient un peu trop grande, les données semblent devenir moins modélisables facilement, il y a plus de variabilité. On va considérer pour l'instant résoudre le problème de prédiction pour les loyers inférieurs à 10,000€, afin de conserver une robustesse du modèle à ces données plutôt anormales, qui correspondent peut-être à un autre modèle distinct ou à un traitement comme outliers."
   ]
  },
  {
   "cell_type": "code",
   "execution_count": 3,
   "id": "df452238-afb6-489e-b135-4784397e1b88",
   "metadata": {},
   "outputs": [
    {
     "data": {
      "image/png": "[encoded data removed]",
      "text/plain": [
       "<Figure size 432x288 with 1 Axes>"
      ]
     },
     "metadata": {
      "needs_background": "light"
     },
     "output_type": "display_data"
    }
   ],
   "source": [
    "house_data = house_data[house_data['loyer'] < 10000]\n",
    "\n",
    "plt.plot(house_data['surface'], house_data['loyer'], 'ro', markersize=4)\n",
    "plt.show()"
   ]
  },
  {
   "cell_type": "markdown",
   "id": "712aa6b3-c344-4ddf-947d-5eae1b1fe575",
   "metadata": {},
   "source": [
    "$N$ : nombre d'observations\n",
    "\n",
    "$\\hat{y}=x^Tθ$  avec  $x^T=(x_1,x_2,x_3,...,x_N),y^T=(\\hat{y_1},\\hat{y_2},\\hat{y_3},...,\\hat{y_N})$\n",
    "\n",
    "$D$ : nombre de variables\n",
    "\n",
    "$x^T_i=(1,v^i_1,v^i_2,...,v^i_D)$\n",
    "\n",
    "Ici, on a une seule variable, la surface, donc $D$ = 1. On a alors pour chaque $i$ :\n",
    "\n",
    "$\\hat{y_i}=x^T_iθ=θ_0+θ_1×v^i_1$\n",
    "\n",
    "$v^i_1$ : surface du $i$ème appartement\n",
    "\n",
    "On cherche donc la droite paramétrée par $θ=(θ_0,θ_1)$"
   ]
  },
  {
   "cell_type": "markdown",
   "id": "ca9c0162-3469-4922-920e-4b67aaf539da",
   "metadata": {},
   "source": [
    "Fonction de perte : distance euclidienne\n",
    "\n",
    "Distance entre une observation et le modèle : $||\\hat{y_i} - y_i||_2 = ||x^T_iθ − y_i||_2$\n",
    "\n",
    "Risque empirique : $E = \\sum_{i=1}^N||x^T_iθ−y_i||_2$"
   ]
  }
 ],
 "metadata": {
  "kernelspec": {
   "display_name": "Python 3 (ipykernel)",
   "language": "python",
   "name": "python3"
  },
  "language_info": {
   "codemirror_mode": {
    "name": "ipython",
    "version": 3
   },
   "file_extension": ".py",
   "mimetype": "text/x-python",
   "name": "python",
   "nbconvert_exporter": "python",
   "pygments_lexer": "ipython3",
   "version": "3.9.12"
  }
 },
 "nbformat": 4,
 "nbformat_minor": 5
}
