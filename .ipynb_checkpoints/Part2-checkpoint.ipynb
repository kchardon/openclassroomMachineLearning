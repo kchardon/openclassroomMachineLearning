{
 "cells": [
  {
   "cell_type": "markdown",
   "id": "d5824d70-8b63-4922-a86f-bb80e618a75d",
   "metadata": {},
   "source": [
    "# Exploitez votre jeu de données"
   ]
  },
  {
   "cell_type": "markdown",
   "id": "b1b99b75-bcb2-4e1b-b7a4-11f173b51838",
   "metadata": {},
   "source": [
    "La première question à se poser est : est-ce que l'on va utiliser toutes les données d'exemple dont on dispose ?\n",
    "\n",
    "En effet, s'il s’avère qu’on a beaucoup de données d’entraînement et/ou que l’algorithme d’apprentissage est lourd, il est possible qu’utiliser toutes les données prenne énormément de temps et/ou de ressources hardware. Dans ce cas, il faut naturellement échantillonner et ne récupérer qu’un petit pourcentage du dataset qui servira au travail de modélisation pour aller plus vite. On parle d'étape de sampling en anglais.\n",
    "\n",
    "On peut quand même utiliser tout le dataset pour entraîner le modèle final. Mais pour explorer et pour le travail quotidien, il vaut en général mieux tester sur une petite partie des données.\n",
    "\n"
   ]
  }
 ],
 "metadata": {
  "kernelspec": {
   "display_name": "Python 3 (ipykernel)",
   "language": "python",
   "name": "python3"
  },
  "language_info": {
   "codemirror_mode": {
    "name": "ipython",
    "version": 3
   },
   "file_extension": ".py",
   "mimetype": "text/x-python",
   "name": "python",
   "nbconvert_exporter": "python",
   "pygments_lexer": "ipython3",
   "version": "3.9.12"
  }
 },
 "nbformat": 4,
 "nbformat_minor": 5
}
